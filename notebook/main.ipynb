{
 "cells": [
  {
   "cell_type": "markdown",
   "id": "4c379c9c",
   "metadata": {},
   "source": [
    "# Gender Classification in Film Dialogues\n",
    "\n",
    "This notebook explores whether it's possible to predict the gender of the lead actor in a movie based on dialogue statistics and metadata. We'll use several classification methods from machine learning and compare their performance on this task.\n"
   ]
  },
  {
   "cell_type": "markdown",
   "id": "7ed0bbf6",
   "metadata": {},
   "source": [
    "## 1. Setup and Imports\n",
    "\n",
    "In this section, we import all the required libraries for:\n",
    "\n",
    "- Data handling (`pandas`, `numpy`)\n",
    "- Visualization (`matplotlib`, `seaborn`)\n",
    "- Machine Learning (`scikit-learn`)\n",
    "\n",
    "We also set a random seed to ensure reproducible results."
   ]
  },
  {
   "cell_type": "code",
   "execution_count": null,
   "id": "ac8d7e44",
   "metadata": {},
   "outputs": [],
   "source": [
    "from IPython.core.pylabtools import figsize\n",
    "import pandas as pd\n",
    "import numpy as np\n",
    "import seaborn as sns\n",
    "import matplotlib.pyplot as plt\n",
    "\n",
    "from sklearn.metrics import accuracy_score\n",
    "from sklearn import preprocessing as skl_pre\n",
    "from sklearn.model_selection import train_test_split, KFold, GridSearchCV\n",
    "from sklearn.linear_model import LogisticRegression\n",
    "from sklearn.discriminant_analysis import LinearDiscriminantAnalysis, QuadraticDiscriminantAnalysis\n",
    "from sklearn.neighbors import KNeighborsClassifier\n",
    "from sklearn.ensemble import RandomForestClassifier\n",
    "\n",
    "# Optional: suppress SettingWithCopyWarning\n",
    "pd.options.mode.chained_assignment = None\n",
    "\n",
    "# Fix the random seed for reproducibility\n",
    "np.random.seed(1)\n"
   ]
  },
  {
   "cell_type": "markdown",
   "id": "bc4e1d80",
   "metadata": {},
   "source": [
    "## 📥 2. Load the Data\n",
    "\n",
    "We load the training and test datasets from the `data/` folder. These contain features extracted from movie scripts such as word counts by gender and other metadata. \n",
    "\n",
    "This will allow us to build models that predict the gender of the lead actor based on the dialogue distribution and contextual details.\n"
   ]
  },
  {
   "cell_type": "code",
   "execution_count": 6,
   "id": "1563c922",
   "metadata": {},
   "outputs": [
    {
     "name": "stdout",
     "output_type": "stream",
     "text": [
      "Train shape: (1039, 14)\n",
      "Test shape: (387, 13)\n"
     ]
    }
   ],
   "source": [
    "# Load the Data\n",
    "train = pd.read_csv(\"../data/train.csv\")\n",
    "test = pd.read_csv(\"../data/test.csv\")\n",
    "\n",
    "# Print shape to confirm successful load\n",
    "print(\"Train shape:\", train.shape)\n",
    "print(\"Test shape:\", test.shape)\n"
   ]
  },
  {
   "cell_type": "markdown",
   "id": "ae839d21",
   "metadata": {},
   "source": []
  }
 ],
 "metadata": {
  "kernelspec": {
   "display_name": "base",
   "language": "python",
   "name": "python3"
  },
  "language_info": {
   "codemirror_mode": {
    "name": "ipython",
    "version": 3
   },
   "file_extension": ".py",
   "mimetype": "text/x-python",
   "name": "python",
   "nbconvert_exporter": "python",
   "pygments_lexer": "ipython3",
   "version": "3.9.15"
  }
 },
 "nbformat": 4,
 "nbformat_minor": 5
}
